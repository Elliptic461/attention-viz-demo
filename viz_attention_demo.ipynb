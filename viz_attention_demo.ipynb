{
 "cells": [
  {
   "cell_type": "code",
   "execution_count": null,
   "id": "04e484dd",
   "metadata": {},
   "outputs": [],
   "source": [
    "%pip install -q \"airavata-python-sdk[notebook]\"\n",
    "import airavata_jupyter_magic\n",
    "\n",
    "%authenticate\n",
    "%request_runtime hpc_gpu --file=cybershuttle.yml --walltime=60 --use=NeuroData25VC2:cloud,Anvil:gpu\n",
    "%switch_runtime hpc_gpu"
   ]
  },
  {
   "cell_type": "code",
   "execution_count": null,
   "id": "26bb31dc",
   "metadata": {},
   "outputs": [],
   "source": [
    "!git clone https://github.com/vizfold/attention-viz-demo /workspace/attention-viz-demo\n",
    "!cd /workspace/attention-viz-demo\n",
    "%cd /workspace/attention-viz-demo"
   ]
  },
  {
   "cell_type": "code",
   "execution_count": null,
   "id": "7c6c0fb3",
   "metadata": {},
   "outputs": [],
   "source": [
    "!wget -N --no-check-certificate -P openfold/resources \\\n",
    "    https://git.scicore.unibas.ch/schwede/openstructure/-/raw/7102c63615b64735c4941278d92b554ec94415f8/modules/mol/alg/src/stereo_chemical_props.txt\n",
    "!bash scripts/download_openfold_params.sh openfold/resources/params/\n",
    "!mv openfold/resources/params/openfold_params/* openfold/resources/params/\n",
    "!rmdir openfold/resources/params/openfold_params/\n",
    "!mkdir -p /workspace/attention-viz-demo/outputs"
   ]
  },
  {
   "cell_type": "code",
   "execution_count": null,
   "id": "1400375b",
   "metadata": {},
   "outputs": [],
   "source": [
    "# Imports and configuration\n",
    "import os\n",
    "import subprocess\n",
    "\n",
    "# User-defined parameters\n",
    "PROT = \"6KWC\"\n",
    "TRI_RESIDUE_IDX = 18\n",
    "\n",
    "# Input/output paths\n",
    "BASE_DATA_DIR = \"\"  # path to AlphaFold data\n",
    "FASTA_DIR = \"./examples/monomer/fasta_dir\" # directory containing fasta file to evaluate\n",
    "ATTN_MAP_DIR = \"./outputs\" # directory for saving text files with top-k attention scores\n",
    "ALIGNMENT_DIR = \"./examples/monomer/alignments\" # directory containing pre-computed alignment files (and MSAs)\n",
    "OUTPUT_DIR = \"./outputs\" # directory to save outputs\n",
    "\n"
   ]
  },
  {
   "cell_type": "code",
   "execution_count": null,
   "id": "3fd757f9",
   "metadata": {},
   "outputs": [],
   "source": [
    "# Run OpenFold inference and save top attention scores to text files \n",
    "inference_cmd = f\"\"\"\n",
    "python3 run_pretrained_openfold.py \\\n",
    "    {FASTA_DIR} \\\n",
    "    {BASE_DATA_DIR}/pdb_mmcif/mmcif_files \\\n",
    "    --use_precomputed_alignments {ALIGNMENT_DIR} \\\n",
    "    --output_dir {OUTPUT_DIR} \\\n",
    "    --config_preset model_1_ptm \\\n",
    "    --uniref90_database_path {BASE_DATA_DIR}/uniref90/uniref90.fasta \\\n",
    "    --mgnify_database_path {BASE_DATA_DIR}/mgnify/mgy_clusters_2022_05.fa \\\n",
    "    --pdb70_database_path {BASE_DATA_DIR}/pdb70/pdb70 \\\n",
    "    --uniclust30_database_path {BASE_DATA_DIR}/uniclust30/uniclust30_2018_08 \\\n",
    "    --bfd_database_path {BASE_DATA_DIR}/bfd/bfd_metaclust_clu_complete_id30_c90_final_seq.sorted_opt \\\n",
    "    --save_outputs \\\n",
    "    --model_device \"cuda:0\" \\\n",
    "    --attn_map_dir {ATTN_MAP_DIR} \\\n",
    "    --num_recycles_save 1 \\\n",
    "    --triangle_residue_idx {TRI_RESIDUE_IDX} \\\n",
    "    --demo_attn\n",
    "\"\"\"\n",
    "\n",
    "subprocess.run(inference_cmd, shell=True, check=True)\n"
   ]
  },
  {
   "cell_type": "code",
   "execution_count": null,
   "id": "77ae42e9",
   "metadata": {},
   "outputs": [],
   "source": [
    "# Generate attention arc diagrams (MSA + Triangle Start)\n",
    "from visualize_attention_arc_diagram_demo_utils import generate_arc_diagrams, parse_fasta_sequence\n",
    "arc_output_dir_msa = \"\" # directory for saving msa attention arc diagrams\n",
    "arc_output_dir_tri = \"\" # directory for saving triangle attention arc diagrams\n",
    "FASTA_PATH = \"\" # fasta file for labeling plots\n",
    "LAYER_IDX = 47 # selected layer for attention evaluation\n",
    "TOP_K = 50 # top-k lines to plot (limit to 500)\n",
    "\n",
    "residue_seq = parse_fasta_sequence(FASTA_PATH)\n",
    "\n",
    "generate_arc_diagrams(\n",
    "    attention_dir=ATTN_MAP_DIR,\n",
    "    residue_sequence=residue_seq,\n",
    "    output_dir=arc_output_dir_msa,\n",
    "    attention_type=\"msa_row\",\n",
    "    top_k=TOP_K,\n",
    "    layer_idx=LAYER_IDX\n",
    ")\n",
    "\n",
    "generate_arc_diagrams(\n",
    "    attention_dir=ATTN_MAP_DIR,\n",
    "    residue_sequence=residue_seq,\n",
    "    output_dir=arc_output_dir_tri,\n",
    "    attention_type=\"triangle_start\",\n",
    "    residue_indices=[TRI_RESIDUE_IDX],\n",
    "    top_k=TOP_K,\n",
    "    layer_idx=LAYER_IDX\n",
    ")\n"
   ]
  },
  {
   "cell_type": "code",
   "execution_count": null,
   "id": "60ff5c06",
   "metadata": {},
   "outputs": [],
   "source": [
    "# Generate PyMOL 3D attention visualizations\n",
    "from visualize_attention_3d_demo_utils import plot_pymol_attention_heads\n",
    "output_dir_msa = \"\" # directory for saving msa attention 3D visuals\n",
    "output_dir_tri = \"\" # directory for saving triangle attention 3D visuals\n",
    "PDB_FILE = \"\" # PDB file for plotting in 3D\n",
    "LAYER_IDX = 47 # selected layer for attention evaluation\n",
    "TOP_K = 50 # top-k lines to plot (limit to 500)\n",
    "\n",
    "plot_pymol_attention_heads(\n",
    "    pdb_file=PDB_FILE,\n",
    "    attention_dir=ATTN_MAP_DIR,\n",
    "    output_dir=output_dir_msa,\n",
    "    attention_type=\"msa_row\",\n",
    "    top_k=TOP_K,\n",
    "    layer_idx=LAYER_IDX\n",
    ")\n",
    "\n",
    "plot_pymol_attention_heads(\n",
    "    pdb_file=PDB_FILE,\n",
    "    attention_dir=ATTN_MAP_DIR,\n",
    "    output_dir=output_dir_tri,\n",
    "    attention_type=\"triangle_start\",\n",
    "    residue_indices=[TRI_RESIDUE_IDX],\n",
    "    top_k=TOP_K,\n",
    "    layer_idx=LAYER_IDX\n",
    ")\n"
   ]
  }
 ],
 "metadata": {
  "kernelspec": {
   "display_name": "openfold_env2",
   "language": "python",
   "name": "python3"
  },
  "language_info": {
   "codemirror_mode": {
    "name": "ipython",
    "version": 3
   },
   "file_extension": ".py",
   "mimetype": "text/x-python",
   "name": "python",
   "nbconvert_exporter": "python",
   "pygments_lexer": "ipython3",
   "version": "3.9.19"
  }
 },
 "nbformat": 4,
 "nbformat_minor": 5
}
