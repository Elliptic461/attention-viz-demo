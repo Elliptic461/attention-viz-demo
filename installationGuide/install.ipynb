{
 "cells": [
  {
   "cell_type": "markdown",
   "id": "12e85d50",
   "metadata": {},
   "source": [
    "Setting Up the Directory"
   ]
  },
  {
   "cell_type": "code",
   "execution_count": null,
   "id": "ffe08cd7",
   "metadata": {},
   "outputs": [],
   "source": [
    "import os\n",
    "# Set the directory you wish put OpenFold and Attention Viz Demo into, please change this to your desired root directory\n",
    "os.environ['ROOT_DIR'] = '~/scratch'\n",
    "# Set the directory that contains OpenFold data\n",
    "os.environ['DATA_DIR'] = '/storage/ice1/shared/d-pace_community/alphafold/alphafold_2.3.2_data'\n",
    "# Set the directory you wish put Conda\n",
    "os.environ['CONDA_INSTALL_DIR'] = '~/scratch'"
   ]
  },
  {
   "cell_type": "markdown",
   "id": "8511e3a4",
   "metadata": {},
   "source": [
    "Fix paths to be expanded from user to exact paths"
   ]
  },
  {
   "cell_type": "code",
   "execution_count": null,
   "id": "c8d5f79d",
   "metadata": {},
   "outputs": [],
   "source": [
    "os.environ['ROOT_DIR'] = os.path.expanduser(os.environ['ROOT_DIR'])\n",
    "os.environ['DATA_DIR'] = os.path.expanduser(os.environ['DATA_DIR'])\n",
    "os.environ['CONDA_INSTALL_DIR'] = os.path.expanduser(os.environ['CONDA_INSTALL_DIR'])"
   ]
  },
  {
   "cell_type": "markdown",
   "id": "6796467d",
   "metadata": {},
   "source": [
    "Clone the Attention Visualization Demo, and OpenFold repository."
   ]
  },
  {
   "cell_type": "code",
   "execution_count": null,
   "metadata": {
    "vscode": {
     "languageId": "shellscript"
    }
   },
   "outputs": [],
   "source": [
    "%%bash\n",
    "# Clone the Attention Visualization Demo repository\n",
    "git clone https://github.com/vizfold/attention-viz-demo.git $ROOT_DIR/attention-viz-demo\n",
    "# Clone the OpenFold repository\n",
    "git clone https://github.com/aqlaboratory/openfold.git $ROOT_DIR/openfold\n",
    "# Fix environment permissions\n",
    "sed -i '/^dependencies:/a \\  - mamba' $ROOT_DIR/openfold/environment.yml "
   ]
  },
  {
   "cell_type": "markdown",
   "id": "58429302",
   "metadata": {},
   "source": [
    "Create and activate the OpenFold conda environment"
   ]
  },
  {
   "cell_type": "code",
   "execution_count": null,
   "id": "d135e88e",
   "metadata": {
    "vscode": {
     "languageId": "shellscript"
    }
   },
   "outputs": [],
   "source": [
    "%%bash\n",
    "# Change directory to OpenFold\n",
    "cd $ROOT_DIR/openfold\n",
    "# Activate Conda\n",
    "source \"$(conda info --base)/etc/profile.d/conda.sh\"\n",
    "export CONDA_ENVS_PATH=$CONDA_INSTALL_DIR/.conda/envs\n",
    "export CONDA_PKGS_DIRS=$CONDA_INSTALL_DIR/.conda/pkgs\n",
    "conda init\n",
    "# Create the OpenFold conda environment\n",
    "conda create -n openfold_env -c conda-forge mamba --no-default-packages -y\n",
    "# Activate the OpenFold conda environment\n",
    "conda activate openfold_env\n",
    "# Update the OpenFold conda environment with environment.yml\n",
    "mamba env update -n openfold_env -f environment.yml -y\n",
    "pip install deepspeed==0.14.5 dm-tree==0.1.6 git+https://github.com/NVIDIA/dllogger.git flash-attn",
    "echo \"openfold_env created and activated\""
   ]
  },
  {
   "cell_type": "markdown",
   "id": "2d737216",
   "metadata": {},
   "source": [
    "Set up compiler and library paths"
   ]
  },
  {
   "cell_type": "code",
   "execution_count": null,
   "id": "4e4b7e10",
   "metadata": {
    "vscode": {
     "languageId": "shellscript"
    }
   },
   "outputs": [],
   "source": [
    "%%bash\n",
    "# Activate Conda\n",
    "source \"$(conda info --base)/etc/profile.d/conda.sh\"\n",
    "export CONDA_ENVS_PATH=$CONDA_INSTALL_DIR/.conda/envs\n",
    "export CONDA_PKGS_DIRS=$CONDA_INSTALL_DIR/.conda/pkgs\n",
    "conda init\n",
    "conda activate openfold_env\n",
    "# Change directory to OpenFold\n",
    "cd $ROOT_DIR/openfold\n",
    "# Set up compiler and library paths\n",
    "mkdir -p $CONDA_PREFIX/x86_64-conda-linux-gnu/lib\n",
    "ln -s $CONDA_PREFIX/libexec/gcc/x86_64-conda-linux-gnu/12.4.0/cc1plus $CONDA_PREFIX/bin/\n",
    "ln -s $CONDA_PREFIX/lib/gcc/x86_64-conda-linux-gnu/12.4.0/crtbeginS.o $CONDA_PREFIX/x86_64-conda-linux-gnu/lib/crtbeginS.o\n",
    "ln -s $CONDA_PREFIX/lib/gcc/x86_64-conda-linux-gnu/12.4.0/crtendS.o $CONDA_PREFIX/x86_64-conda-linux-gnu/lib/crtendS.o\n",
    "ln -s $CONDA_PREFIX/x86_64-conda-linux-gnu/sysroot/usr/lib64/crti.o $CONDA_PREFIX/x86_64-conda-linux-gnu/lib/crti.o\n",
    "ln -s $CONDA_PREFIX/x86_64-conda-linux-gnu/sysroot/usr/lib64/crtn.o $CONDA_PREFIX/x86_64-conda-linux-gnu/lib/crtn.o\n",
    "# Install gcc and libgcc-ng\n",
    "mamba install -y gcc_linux-64 libgcc-ng\n",
    "# Set up environment variables\n",
    "export GCC_LTO_PLUGIN=\"$CONDA_PREFIX/libexec/gcc/x86_64-conda-linux-gnu/12.4.0/liblto_plugin.so\"\n",
    "export CFLAGS=\"-O2 -fno-lto --sysroot=$CONDA_PREFIX/x86_64-conda-linux-gnu/sysroot\"\n",
    "export CXXFLAGS=\"$CXXFLAGS -fno-use-linker-plugin -O2 -fno-lto --sysroot=$CONDA_PREFIX/x86_64-conda-linux-gnu/sysroot\"\n",
    "export CFLAGS=\"$CFLAGS -fno-use-linker-plugin -O2 -fno-lto --sysroot=$CONDA_PREFIX/x86_64-conda-linux-gnu/sysroot\"\n",
    "export LDFLAGS=\"$LDFLAGS -fno-use-linker-plugin -O2 -fno-lto --sysroot=$CONDA_PREFIX/x86_64-conda-linux-gnu/sysroot\"\n",
    "export LDFLAGS=\"$LDFLAGS -L$CONDA_PREFIX/lib/gcc/x86_64-conda-linux-gnu/12.4.0 -L$CONDA_PREFIX/x86_64-conda-linux-gnu/sysroot/usr/lib64\"\n",
    "export CPATH=\"$CONDA_PREFIX/include:$CPATH\"\n",
    "export LIBRARY_PATH=\"$CONDA_PREFIX/lib:$LIBRARY_PATH\"\n",
    "export LD_LIBRARY_PATH=\"$CONDA_PREFIX/lib:$LD_LIBRARY_PATH\"\n",
    "# Install OpenFold\n",
    "pip install -e .\n",
    "# Install third-party dependencies\n",
    "scripts/install_third_party_dependencies.sh"
   ]
  },
  {
   "cell_type": "markdown",
   "id": "4331ec0c",
   "metadata": {},
   "source": [
    "Set up Attention Visualization Demo"
   ]
  },
  {
   "cell_type": "code",
   "execution_count": null,
   "id": "9e3ec183",
   "metadata": {
    "vscode": {
     "languageId": "shellscript"
    }
   },
   "outputs": [],
   "source": [
    "%%bash\n",
    "# Activate Conda\n",
    "source \"$(conda info --base)/etc/profile.d/conda.sh\"\n",
    "export CONDA_ENVS_PATH=$CONDA_INSTALL_DIR/.conda/envs\n",
    "export CONDA_PKGS_DIRS=$CONDA_INSTALL_DIR/.conda/pkgs\n",
    "conda init\n",
    "conda activate openfold_env\n",
    "# Change directory to OpenFold\n",
    "cd $ROOT_DIR/openfold\n",
    "# Install additional required packages\n",
    "mamba install -y ipykernel\n",
    "python -m ipykernel install --user --name=openfold_env\n",
    "# Set up Attention Visualization Demo\n",
    "cd $ROOT_DIR/attention-viz-demo\n",
    "ln -s $ROOT_DIR/openfold/openfold/data ./openfold/\n",
    "# Create necessary directories and symlinks\n",
    "mkdir openfold/resources\n",
    "ln -s $DATA_DIR/params ./openfold/resources/ \n",
    "wget -N --no-check-certificate -P openfold/resources https://git.scicore.unibas.ch/schwede/openstructure/-/raw/7102c63615b64735c4941278d92b554ec94415f8/modules/mol/alg/src/stereo_chemical_props.txt"
   ]
  },
  {
   "cell_type": "markdown",
   "id": "0f660ed1",
   "metadata": {},
   "source": [
    "Install additional visualization tools"
   ]
  },
  {
   "cell_type": "code",
   "execution_count": null,
   "id": "f01cb106",
   "metadata": {
    "vscode": {
     "languageId": "shellscript"
    }
   },
   "outputs": [],
   "source": [
    "%%bash\n",
    "# Activate Conda\n",
    "source \"$(conda info --base)/etc/profile.d/conda.sh\"\n",
    "export CONDA_ENVS_PATH=$CONDA_INSTALL_DIR/.conda/envs\n",
    "export CONDA_PKGS_DIRS=$CONDA_INSTALL_DIR/.conda/pkgs\n",
    "conda init\n",
    "conda activate openfold_env\n",
    "# Install matplotlib\n",
    "mamba install -y conda-forge::matplotlib\n",
    "# Set strict channel priority for consistent package resolution\n",
    "conda config --set channel_priority strict \n",
    "# Install PyTorch with CUDA support\n",
    "mamba install -y pytorch=2.5 pytorch-cuda=12.4 -c pytorch -c nvidia\n",
    "# Install PyMOL for molecular visualization\n",
    "mamba install -y -c conda-forge -c pytorch -c nvidia pymol-open-source\n",
    "# Reset channel priority\n",
    "conda config --remove-key channel_priority"
   ]
  }
 ],
 "metadata": {
  "kernelspec": {
   "display_name": "base",
   "language": "python",
   "name": "python3"
  },
  "language_info": {
   "codemirror_mode": {
    "name": "ipython",
    "version": 3
   },
   "file_extension": ".py",
   "mimetype": "text/x-python",
   "name": "python",
   "nbconvert_exporter": "python",
   "pygments_lexer": "ipython3",
   "version": "3.10.13"
  }
 },
 "nbformat": 4,
 "nbformat_minor": 5
}
