{
 "cells": [
  {
   "cell_type": "markdown",
   "id": "6796467d",
   "metadata": {},
   "source": [
    "Initialize Conda, Clone the Attention Visualization Demo, and OpenFold repository."
   ]
  },
  {
   "cell_type": "code",
   "execution_count": null,
   "metadata": {
    "vscode": {
     "languageId": "shellscript"
    }
   },
   "outputs": [],
   "source": [
    "# Initialize Conda\n",
    "conda init\n",
    "# Clone the Attention Visualization Demo repository\n",
    "git clone https://github.com/vizfold/attention-viz-demo.git ~/scratch/attention-viz-demo\n",
    "# Clone the OpenFold repository\n",
    "git clone https://github.com/aqlaboratory/openfold.git ~/scratch/openfold\n",
    "# Change directory to OpenFold\n",
    "cd ~/scratch/openfold"
   ]
  },
  {
   "cell_type": "markdown",
   "id": "58429302",
   "metadata": {},
   "source": [
    "Create and activate the OpenFold conda environment"
   ]
  },
  {
   "cell_type": "code",
   "execution_count": null,
   "id": "d135e88e",
   "metadata": {
    "vscode": {
     "languageId": "shellscript"
    }
   },
   "outputs": [],
   "source": [
    "# Create the OpenFold conda environment\n",
    "conda env create -n openfold_env -f environment.yml\n",
    "# Change directory to OpenFold\n",
    "cd ~/scratch/openfold \n",
    "# Activate the OpenFold conda environment\n",
    "conda activate openfold_env"
   ]
  },
  {
   "cell_type": "markdown",
   "id": "2d737216",
   "metadata": {},
   "source": [
    "Set up compiler and library paths"
   ]
  },
  {
   "cell_type": "code",
   "execution_count": null,
   "id": "4e4b7e10",
   "metadata": {
    "vscode": {
     "languageId": "shellscript"
    }
   },
   "outputs": [],
   "source": [
    "# Set up compiler and library paths\n",
    "mkdir -p $CONDA_PREFIX/x86_64-conda-linux-gnu/lib\n",
    "ln -s $CONDA_PREFIX/libexec/gcc/x86_64-conda-linux-gnu/12.4.0/cc1plus $CONDA_PREFIX/bin/\n",
    "ln -s $CONDA_PREFIX/lib/gcc/x86_64-conda-linux-gnu/12.4.0/crtbeginS.o       $CONDA_PREFIX/x86_64-conda-linux-gnu/lib/crtbeginS.o\n",
    "ln -s $CONDA_PREFIX/lib/gcc/x86_64-conda-linux-gnu/12.4.0/crtendS.o       $CONDA_PREFIX/x86_64-conda-linux-gnu/lib/crtendS.o\n",
    "ln -s $CONDA_PREFIX/x86_64-conda-linux-gnu/sysroot/usr/lib64/crti.o       $CONDA_PREFIX/x86_64-conda-linux-gnu/lib/crti.o\n",
    "ln -s $CONDA_PREFIX/x86_64-conda-linux-gnu/sysroot/usr/lib64/crtn.o       $CONDA_PREFIX/x86_64-conda-linux-gnu/lib/crtn.o\n",
    "# Install gcc and libgcc-ng\n",
    "conda install -y gcc_linux-64 libgcc-ng\n",
    "# Set up environment variables\n",
    "export GCC_LTO_PLUGIN=\"$CONDA_PREFIX/libexec/gcc/x86_64-conda-linux-gnu/12.4.0/liblto_plugin.so\"\n",
    "export CFLAGS=\"-O2 -fno-lto --sysroot=$CONDA_PREFIX/x86_64-conda-linux-gnu/sysroot\"\n",
    "export CXXFLAGS=\"$CXXFLAGS -fno-use-linker-plugin -O2 -fno-lto --sysroot=$CONDA_PREFIX/x86_64-conda-linux-gnu/sysroot\"\n",
    "export CFLAGS=\"$CFLAGS -fno-use-linker-plugin -O2 -fno-lto --sysroot=$CONDA_PREFIX/x86_64-conda-linux-gnu/sysroot\"\n",
    "export LDFLAGS=\"$LDFLAGS -fno-use-linker-plugin -O2 -fno-lto --sysroot=$CONDA_PREFIX/x86_64-conda-linux-gnu/sysroot\"\n",
    "export LDFLAGS=\"$LDFLAGS -L$CONDA_PREFIX/lib/gcc/x86_64-conda-linux-gnu/12.4.0 -L$CONDA_PREFIX/x86_64-conda-linux-gnu/sysroot/usr/lib64\"\n",
    "export CPATH=\"$CONDA_PREFIX/include:$CPATH\"\n",
    "export LIBRARY_PATH=\"$CONDA_PREFIX/lib:$LIBRARY_PATH\"\n",
    "export LD_LIBRARY_PATH=\"$CONDA_PREFIX/lib:$LD_LIBRARY_PATH\"\n",
    "# Install OpenFold\n",
    "pip install -e .\n",
    "# Install third-party dependencies\n",
    "scripts/install_third_party_dependencies.sh"
   ]
  },
  {
   "cell_type": "markdown",
   "id": "4331ec0c",
   "metadata": {},
   "source": [
    "Set up Attention Visualization Demo"
   ]
  },
  {
   "cell_type": "code",
   "execution_count": null,
   "id": "9e3ec183",
   "metadata": {
    "vscode": {
     "languageId": "shellscript"
    }
   },
   "outputs": [],
   "source": [
    "# Install additional required packages\n",
    "conda install -y ipykernel\n",
    "python -m ipykernel install --user --name=openfold_env\n",
    "# Set up Attention Visualization Demo\n",
    "cd ~/scratch/attention-viz-demo\n",
    "ln -s ~/scratch/openfold/openfold/data ./openfold/\n",
    "# Create necessary directories and symlinks\n",
    "mkdir openfold/resources\n",
    "ln -s /storage/ice1/shared/d-pace_community/alphafold/alphafold_2.3.2_data/params ./openfold/resources/ \n",
    "wget -N --no-check-certificate -P openfold/resources https://git.scicore.unibas.ch/schwede/openstructure/-/raw/7102c63615b64735c4941278d92b554ec94415f8/modules/mol/alg/src/stereo_chemical_props.txt"
   ]
  },
  {
   "cell_type": "markdown",
   "id": "0f660ed1",
   "metadata": {},
   "source": [
    "Install additional visualization tools"
   ]
  },
  {
   "cell_type": "code",
   "execution_count": null,
   "id": "f01cb106",
   "metadata": {
    "vscode": {
     "languageId": "shellscript"
    }
   },
   "outputs": [],
   "source": [
    "# Install matplotlib\n",
    "conda install -y conda-forge::matplotlib\n",
    "# Set strict channel priority for consistent package resolution\n",
    "conda config --set channel_priority strict \n",
    "# Install PyTorch with CUDA support\n",
    "conda install -y pytorch==2.5.0 pytorch-cuda=12.4 -c pytorch -c nvidia\n",
    "# Install PyMOL for molecular visualization\n",
    "conda install -y -c conda-forge -c pytorch -c nvidia pymol-open-source\n",
    "# Reset channel priority\n",
    "conda config --remove-key channel_priority"
   ]
  }
 ],
 "metadata": {
  "kernelspec": {
   "display_name": "Bash",
   "language": "bash",
   "name": "bash"
  },
  "language_info": {
   "codemirror_mode": "shell",
   "file_extension": ".sh",
   "mimetype": "text/x-sh",
   "name": "bash"
  }
 },
 "nbformat": 4,
 "nbformat_minor": 5
}
